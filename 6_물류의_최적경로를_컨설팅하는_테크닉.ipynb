{
  "nbformat": 4,
  "nbformat_minor": 2,
  "metadata": {
    "colab": {
      "name": "6. 물류의 최적경로를 컨설팅하는 테크닉.ipynb",
      "provenance": [],
      "collapsed_sections": []
    },
    "kernelspec": {
      "name": "python3",
      "display_name": "Python 3.9.5 64-bit"
    },
    "language_info": {
      "name": "python",
      "version": "3.9.5",
      "mimetype": "text/x-python",
      "codemirror_mode": {
        "name": "ipython",
        "version": 3
      },
      "pygments_lexer": "ipython3",
      "nbconvert_exporter": "python",
      "file_extension": ".py"
    },
    "interpreter": {
      "hash": "80c619c3c7a174d0b0332d53e058ed9c4c8a605fbe06df2713324d065db99f39"
    }
  },
  "cells": [
    {
      "cell_type": "code",
      "execution_count": 2,
      "source": [
        "import pandas as pd\r\n",
        "factories = pd.read_csv('tbl_factory.csv', index_col=0)\r\n",
        "factories\r\n",
        "#demand 수요"
      ],
      "outputs": [
        {
          "output_type": "execute_result",
          "data": {
            "text/html": [
              "<div>\n",
              "<style scoped>\n",
              "    .dataframe tbody tr th:only-of-type {\n",
              "        vertical-align: middle;\n",
              "    }\n",
              "\n",
              "    .dataframe tbody tr th {\n",
              "        vertical-align: top;\n",
              "    }\n",
              "\n",
              "    .dataframe thead th {\n",
              "        text-align: right;\n",
              "    }\n",
              "</style>\n",
              "<table border=\"1\" class=\"dataframe\">\n",
              "  <thead>\n",
              "    <tr style=\"text-align: right;\">\n",
              "      <th></th>\n",
              "      <th>FCName</th>\n",
              "      <th>FCDemand</th>\n",
              "      <th>FCRegion</th>\n",
              "    </tr>\n",
              "    <tr>\n",
              "      <th>FCID</th>\n",
              "      <th></th>\n",
              "      <th></th>\n",
              "      <th></th>\n",
              "    </tr>\n",
              "  </thead>\n",
              "  <tbody>\n",
              "    <tr>\n",
              "      <th>FC00001</th>\n",
              "      <td>서울공장</td>\n",
              "      <td>28</td>\n",
              "      <td>북부</td>\n",
              "    </tr>\n",
              "    <tr>\n",
              "      <th>FC00002</th>\n",
              "      <td>수원공장</td>\n",
              "      <td>29</td>\n",
              "      <td>북부</td>\n",
              "    </tr>\n",
              "    <tr>\n",
              "      <th>FC00003</th>\n",
              "      <td>인천공장</td>\n",
              "      <td>31</td>\n",
              "      <td>북부</td>\n",
              "    </tr>\n",
              "    <tr>\n",
              "      <th>FC00004</th>\n",
              "      <td>대전공장</td>\n",
              "      <td>25</td>\n",
              "      <td>북부</td>\n",
              "    </tr>\n",
              "    <tr>\n",
              "      <th>FC00005</th>\n",
              "      <td>대구공장</td>\n",
              "      <td>21</td>\n",
              "      <td>남부</td>\n",
              "    </tr>\n",
              "    <tr>\n",
              "      <th>FC00006</th>\n",
              "      <td>광주공장</td>\n",
              "      <td>30</td>\n",
              "      <td>남부</td>\n",
              "    </tr>\n",
              "    <tr>\n",
              "      <th>FC00007</th>\n",
              "      <td>부산공장</td>\n",
              "      <td>25</td>\n",
              "      <td>남부</td>\n",
              "    </tr>\n",
              "    <tr>\n",
              "      <th>FC00008</th>\n",
              "      <td>울산공장</td>\n",
              "      <td>16</td>\n",
              "      <td>남부</td>\n",
              "    </tr>\n",
              "  </tbody>\n",
              "</table>\n",
              "</div>"
            ],
            "text/plain": [
              "        FCName  FCDemand FCRegion\n",
              "FCID                             \n",
              "FC00001   서울공장        28       북부\n",
              "FC00002   수원공장        29       북부\n",
              "FC00003   인천공장        31       북부\n",
              "FC00004   대전공장        25       북부\n",
              "FC00005   대구공장        21       남부\n",
              "FC00006   광주공장        30       남부\n",
              "FC00007   부산공장        25       남부\n",
              "FC00008   울산공장        16       남부"
            ]
          },
          "metadata": {},
          "execution_count": 2
        }
      ],
      "metadata": {
        "colab": {
          "base_uri": "https://localhost:8080/",
          "height": 326
        },
        "id": "i5vDoMdxonVZ",
        "outputId": "a3fb68b0-aebb-4df9-b3ca-54dd6a1e9b83"
      }
    },
    {
      "cell_type": "code",
      "execution_count": 3,
      "source": [
        "warehouses =pd.read_csv('tbl_warehouse.csv', index_col=0)\r\n",
        "cost = pd.read_csv('rel_cost.csv', index_col=0)\r\n",
        "cost.head()\r\n",
        "#FCID - 창고 데이터 / WHID - 비용 데이터\r\n",
        "#const - 생산비용"
      ],
      "outputs": [
        {
          "output_type": "execute_result",
          "data": {
            "text/html": [
              "<div>\n",
              "<style scoped>\n",
              "    .dataframe tbody tr th:only-of-type {\n",
              "        vertical-align: middle;\n",
              "    }\n",
              "\n",
              "    .dataframe tbody tr th {\n",
              "        vertical-align: top;\n",
              "    }\n",
              "\n",
              "    .dataframe thead th {\n",
              "        text-align: right;\n",
              "    }\n",
              "</style>\n",
              "<table border=\"1\" class=\"dataframe\">\n",
              "  <thead>\n",
              "    <tr style=\"text-align: right;\">\n",
              "      <th></th>\n",
              "      <th>FCID</th>\n",
              "      <th>WHID</th>\n",
              "      <th>Cost</th>\n",
              "    </tr>\n",
              "    <tr>\n",
              "      <th>RCostID</th>\n",
              "      <th></th>\n",
              "      <th></th>\n",
              "      <th></th>\n",
              "    </tr>\n",
              "  </thead>\n",
              "  <tbody>\n",
              "    <tr>\n",
              "      <th>1</th>\n",
              "      <td>FC00001</td>\n",
              "      <td>WH00001</td>\n",
              "      <td>0.4</td>\n",
              "    </tr>\n",
              "    <tr>\n",
              "      <th>2</th>\n",
              "      <td>FC00001</td>\n",
              "      <td>WH00002</td>\n",
              "      <td>0.8</td>\n",
              "    </tr>\n",
              "    <tr>\n",
              "      <th>3</th>\n",
              "      <td>FC00001</td>\n",
              "      <td>WH00003</td>\n",
              "      <td>1.5</td>\n",
              "    </tr>\n",
              "    <tr>\n",
              "      <th>4</th>\n",
              "      <td>FC00002</td>\n",
              "      <td>WH00001</td>\n",
              "      <td>0.9</td>\n",
              "    </tr>\n",
              "    <tr>\n",
              "      <th>5</th>\n",
              "      <td>FC00002</td>\n",
              "      <td>WH00002</td>\n",
              "      <td>0.8</td>\n",
              "    </tr>\n",
              "  </tbody>\n",
              "</table>\n",
              "</div>"
            ],
            "text/plain": [
              "            FCID     WHID  Cost\n",
              "RCostID                        \n",
              "1        FC00001  WH00001   0.4\n",
              "2        FC00001  WH00002   0.8\n",
              "3        FC00001  WH00003   1.5\n",
              "4        FC00002  WH00001   0.9\n",
              "5        FC00002  WH00002   0.8"
            ]
          },
          "metadata": {},
          "execution_count": 3
        }
      ],
      "metadata": {
        "colab": {
          "base_uri": "https://localhost:8080/",
          "height": 234
        },
        "id": "iZlAuUwDpLPk",
        "outputId": "8a180e32-d87b-4d95-ff79-5513cb103977"
      }
    },
    {
      "cell_type": "code",
      "execution_count": 4,
      "source": [
        "trans = pd.read_csv('tbl_transaction.csv', index_col=0)\r\n",
        "trans.head()"
      ],
      "outputs": [
        {
          "output_type": "execute_result",
          "data": {
            "text/html": [
              "<div>\n",
              "<style scoped>\n",
              "    .dataframe tbody tr th:only-of-type {\n",
              "        vertical-align: middle;\n",
              "    }\n",
              "\n",
              "    .dataframe tbody tr th {\n",
              "        vertical-align: top;\n",
              "    }\n",
              "\n",
              "    .dataframe thead th {\n",
              "        text-align: right;\n",
              "    }\n",
              "</style>\n",
              "<table border=\"1\" class=\"dataframe\">\n",
              "  <thead>\n",
              "    <tr style=\"text-align: right;\">\n",
              "      <th></th>\n",
              "      <th>TransactionDate</th>\n",
              "      <th>ToFC</th>\n",
              "      <th>FromWH</th>\n",
              "      <th>Quantity</th>\n",
              "    </tr>\n",
              "    <tr>\n",
              "      <th>TRID</th>\n",
              "      <th></th>\n",
              "      <th></th>\n",
              "      <th></th>\n",
              "      <th></th>\n",
              "    </tr>\n",
              "  </thead>\n",
              "  <tbody>\n",
              "    <tr>\n",
              "      <th>0</th>\n",
              "      <td>2019-01-01 02:11:10</td>\n",
              "      <td>FC00004</td>\n",
              "      <td>WH00003</td>\n",
              "      <td>33</td>\n",
              "    </tr>\n",
              "    <tr>\n",
              "      <th>1</th>\n",
              "      <td>2019-01-01 06:12:42</td>\n",
              "      <td>FC00007</td>\n",
              "      <td>WH00006</td>\n",
              "      <td>19</td>\n",
              "    </tr>\n",
              "    <tr>\n",
              "      <th>2</th>\n",
              "      <td>2019-01-01 06:32:32</td>\n",
              "      <td>FC00006</td>\n",
              "      <td>WH00004</td>\n",
              "      <td>31</td>\n",
              "    </tr>\n",
              "    <tr>\n",
              "      <th>3</th>\n",
              "      <td>2019-01-01 07:17:06</td>\n",
              "      <td>FC00002</td>\n",
              "      <td>WH00003</td>\n",
              "      <td>18</td>\n",
              "    </tr>\n",
              "    <tr>\n",
              "      <th>4</th>\n",
              "      <td>2019-01-01 07:52:18</td>\n",
              "      <td>FC00001</td>\n",
              "      <td>WH00002</td>\n",
              "      <td>30</td>\n",
              "    </tr>\n",
              "  </tbody>\n",
              "</table>\n",
              "</div>"
            ],
            "text/plain": [
              "          TransactionDate     ToFC   FromWH  Quantity\n",
              "TRID                                                 \n",
              "0     2019-01-01 02:11:10  FC00004  WH00003        33\n",
              "1     2019-01-01 06:12:42  FC00007  WH00006        19\n",
              "2     2019-01-01 06:32:32  FC00006  WH00004        31\n",
              "3     2019-01-01 07:17:06  FC00002  WH00003        18\n",
              "4     2019-01-01 07:52:18  FC00001  WH00002        30"
            ]
          },
          "metadata": {},
          "execution_count": 4
        }
      ],
      "metadata": {
        "colab": {
          "base_uri": "https://localhost:8080/",
          "height": 234
        },
        "id": "E8x6R51gp0Wn",
        "outputId": "846087a1-b7fa-479d-9f5d-8a0d1cf1c944"
      }
    },
    {
      "cell_type": "code",
      "execution_count": 5,
      "source": [
        "join_data = pd.merge(trans, cost, left_on=[\"ToFC\", \"FromWH\"], right_on=[\"FCID\",\"WHID\"], how=\"left\")\r\n",
        "join_data.head()"
      ],
      "outputs": [
        {
          "output_type": "execute_result",
          "data": {
            "text/html": [
              "<div>\n",
              "<style scoped>\n",
              "    .dataframe tbody tr th:only-of-type {\n",
              "        vertical-align: middle;\n",
              "    }\n",
              "\n",
              "    .dataframe tbody tr th {\n",
              "        vertical-align: top;\n",
              "    }\n",
              "\n",
              "    .dataframe thead th {\n",
              "        text-align: right;\n",
              "    }\n",
              "</style>\n",
              "<table border=\"1\" class=\"dataframe\">\n",
              "  <thead>\n",
              "    <tr style=\"text-align: right;\">\n",
              "      <th></th>\n",
              "      <th>TransactionDate</th>\n",
              "      <th>ToFC</th>\n",
              "      <th>FromWH</th>\n",
              "      <th>Quantity</th>\n",
              "      <th>FCID</th>\n",
              "      <th>WHID</th>\n",
              "      <th>Cost</th>\n",
              "    </tr>\n",
              "  </thead>\n",
              "  <tbody>\n",
              "    <tr>\n",
              "      <th>0</th>\n",
              "      <td>2019-01-01 02:11:10</td>\n",
              "      <td>FC00004</td>\n",
              "      <td>WH00003</td>\n",
              "      <td>33</td>\n",
              "      <td>FC00004</td>\n",
              "      <td>WH00003</td>\n",
              "      <td>1.1</td>\n",
              "    </tr>\n",
              "    <tr>\n",
              "      <th>1</th>\n",
              "      <td>2019-01-01 06:12:42</td>\n",
              "      <td>FC00007</td>\n",
              "      <td>WH00006</td>\n",
              "      <td>19</td>\n",
              "      <td>FC00007</td>\n",
              "      <td>WH00006</td>\n",
              "      <td>1.3</td>\n",
              "    </tr>\n",
              "    <tr>\n",
              "      <th>2</th>\n",
              "      <td>2019-01-01 06:32:32</td>\n",
              "      <td>FC00006</td>\n",
              "      <td>WH00004</td>\n",
              "      <td>31</td>\n",
              "      <td>FC00006</td>\n",
              "      <td>WH00004</td>\n",
              "      <td>0.9</td>\n",
              "    </tr>\n",
              "    <tr>\n",
              "      <th>3</th>\n",
              "      <td>2019-01-01 07:17:06</td>\n",
              "      <td>FC00002</td>\n",
              "      <td>WH00003</td>\n",
              "      <td>18</td>\n",
              "      <td>FC00002</td>\n",
              "      <td>WH00003</td>\n",
              "      <td>1.6</td>\n",
              "    </tr>\n",
              "    <tr>\n",
              "      <th>4</th>\n",
              "      <td>2019-01-01 07:52:18</td>\n",
              "      <td>FC00001</td>\n",
              "      <td>WH00002</td>\n",
              "      <td>30</td>\n",
              "      <td>FC00001</td>\n",
              "      <td>WH00002</td>\n",
              "      <td>0.8</td>\n",
              "    </tr>\n",
              "  </tbody>\n",
              "</table>\n",
              "</div>"
            ],
            "text/plain": [
              "       TransactionDate     ToFC   FromWH  Quantity     FCID     WHID  Cost\n",
              "0  2019-01-01 02:11:10  FC00004  WH00003        33  FC00004  WH00003   1.1\n",
              "1  2019-01-01 06:12:42  FC00007  WH00006        19  FC00007  WH00006   1.3\n",
              "2  2019-01-01 06:32:32  FC00006  WH00004        31  FC00006  WH00004   0.9\n",
              "3  2019-01-01 07:17:06  FC00002  WH00003        18  FC00002  WH00003   1.6\n",
              "4  2019-01-01 07:52:18  FC00001  WH00002        30  FC00001  WH00002   0.8"
            ]
          },
          "metadata": {},
          "execution_count": 5
        }
      ],
      "metadata": {
        "colab": {
          "base_uri": "https://localhost:8080/",
          "height": 203
        },
        "id": "y5k1tYvQq0xv",
        "outputId": "4485bc8f-733b-403a-92f7-f158054c4aa4"
      }
    },
    {
      "cell_type": "code",
      "execution_count": 6,
      "source": [
        "join_data = pd.merge(join_data, factories, left_on=\"ToFC\",right_on=\"FCID\", how=\"left\")\r\n",
        "join_data.head()\r\n",
        "#Quantity - 수량"
      ],
      "outputs": [
        {
          "output_type": "execute_result",
          "data": {
            "text/html": [
              "<div>\n",
              "<style scoped>\n",
              "    .dataframe tbody tr th:only-of-type {\n",
              "        vertical-align: middle;\n",
              "    }\n",
              "\n",
              "    .dataframe tbody tr th {\n",
              "        vertical-align: top;\n",
              "    }\n",
              "\n",
              "    .dataframe thead th {\n",
              "        text-align: right;\n",
              "    }\n",
              "</style>\n",
              "<table border=\"1\" class=\"dataframe\">\n",
              "  <thead>\n",
              "    <tr style=\"text-align: right;\">\n",
              "      <th></th>\n",
              "      <th>TransactionDate</th>\n",
              "      <th>ToFC</th>\n",
              "      <th>FromWH</th>\n",
              "      <th>Quantity</th>\n",
              "      <th>FCID</th>\n",
              "      <th>WHID</th>\n",
              "      <th>Cost</th>\n",
              "      <th>FCName</th>\n",
              "      <th>FCDemand</th>\n",
              "      <th>FCRegion</th>\n",
              "    </tr>\n",
              "  </thead>\n",
              "  <tbody>\n",
              "    <tr>\n",
              "      <th>0</th>\n",
              "      <td>2019-01-01 02:11:10</td>\n",
              "      <td>FC00004</td>\n",
              "      <td>WH00003</td>\n",
              "      <td>33</td>\n",
              "      <td>FC00004</td>\n",
              "      <td>WH00003</td>\n",
              "      <td>1.1</td>\n",
              "      <td>대전공장</td>\n",
              "      <td>25</td>\n",
              "      <td>북부</td>\n",
              "    </tr>\n",
              "    <tr>\n",
              "      <th>1</th>\n",
              "      <td>2019-01-01 06:12:42</td>\n",
              "      <td>FC00007</td>\n",
              "      <td>WH00006</td>\n",
              "      <td>19</td>\n",
              "      <td>FC00007</td>\n",
              "      <td>WH00006</td>\n",
              "      <td>1.3</td>\n",
              "      <td>부산공장</td>\n",
              "      <td>25</td>\n",
              "      <td>남부</td>\n",
              "    </tr>\n",
              "    <tr>\n",
              "      <th>2</th>\n",
              "      <td>2019-01-01 06:32:32</td>\n",
              "      <td>FC00006</td>\n",
              "      <td>WH00004</td>\n",
              "      <td>31</td>\n",
              "      <td>FC00006</td>\n",
              "      <td>WH00004</td>\n",
              "      <td>0.9</td>\n",
              "      <td>광주공장</td>\n",
              "      <td>30</td>\n",
              "      <td>남부</td>\n",
              "    </tr>\n",
              "    <tr>\n",
              "      <th>3</th>\n",
              "      <td>2019-01-01 07:17:06</td>\n",
              "      <td>FC00002</td>\n",
              "      <td>WH00003</td>\n",
              "      <td>18</td>\n",
              "      <td>FC00002</td>\n",
              "      <td>WH00003</td>\n",
              "      <td>1.6</td>\n",
              "      <td>수원공장</td>\n",
              "      <td>29</td>\n",
              "      <td>북부</td>\n",
              "    </tr>\n",
              "    <tr>\n",
              "      <th>4</th>\n",
              "      <td>2019-01-01 07:52:18</td>\n",
              "      <td>FC00001</td>\n",
              "      <td>WH00002</td>\n",
              "      <td>30</td>\n",
              "      <td>FC00001</td>\n",
              "      <td>WH00002</td>\n",
              "      <td>0.8</td>\n",
              "      <td>서울공장</td>\n",
              "      <td>28</td>\n",
              "      <td>북부</td>\n",
              "    </tr>\n",
              "  </tbody>\n",
              "</table>\n",
              "</div>"
            ],
            "text/plain": [
              "       TransactionDate     ToFC   FromWH  Quantity     FCID     WHID  Cost  \\\n",
              "0  2019-01-01 02:11:10  FC00004  WH00003        33  FC00004  WH00003   1.1   \n",
              "1  2019-01-01 06:12:42  FC00007  WH00006        19  FC00007  WH00006   1.3   \n",
              "2  2019-01-01 06:32:32  FC00006  WH00004        31  FC00006  WH00004   0.9   \n",
              "3  2019-01-01 07:17:06  FC00002  WH00003        18  FC00002  WH00003   1.6   \n",
              "4  2019-01-01 07:52:18  FC00001  WH00002        30  FC00001  WH00002   0.8   \n",
              "\n",
              "  FCName  FCDemand FCRegion  \n",
              "0   대전공장        25       북부  \n",
              "1   부산공장        25       남부  \n",
              "2   광주공장        30       남부  \n",
              "3   수원공장        29       북부  \n",
              "4   서울공장        28       북부  "
            ]
          },
          "metadata": {},
          "execution_count": 6
        }
      ],
      "metadata": {
        "colab": {
          "base_uri": "https://localhost:8080/",
          "height": 203
        },
        "id": "DJLPxvuArVTv",
        "outputId": "b189dd51-8fcb-4b77-a9d0-2398d54a196d"
      }
    },
    {
      "cell_type": "code",
      "execution_count": 7,
      "source": [
        "# 창고정보 추가\r\n",
        "join_data = pd.merge(join_data, warehouses, left_on=\"FromWH\", right_on=\"WHID\", how=\"left\")\r\n",
        "# 컬럼 정리\r\n",
        "join_data = join_data[[\"TransactionDate\",\"Quantity\",\"Cost\",\"ToFC\",\"FCName\",\"FCDemand\",\"FromWH\",\"WHName\",\"WHSupply\",\"WHRegion\"]]\r\n",
        "join_data.head()"
      ],
      "outputs": [
        {
          "output_type": "execute_result",
          "data": {
            "text/html": [
              "<div>\n",
              "<style scoped>\n",
              "    .dataframe tbody tr th:only-of-type {\n",
              "        vertical-align: middle;\n",
              "    }\n",
              "\n",
              "    .dataframe tbody tr th {\n",
              "        vertical-align: top;\n",
              "    }\n",
              "\n",
              "    .dataframe thead th {\n",
              "        text-align: right;\n",
              "    }\n",
              "</style>\n",
              "<table border=\"1\" class=\"dataframe\">\n",
              "  <thead>\n",
              "    <tr style=\"text-align: right;\">\n",
              "      <th></th>\n",
              "      <th>TransactionDate</th>\n",
              "      <th>Quantity</th>\n",
              "      <th>Cost</th>\n",
              "      <th>ToFC</th>\n",
              "      <th>FCName</th>\n",
              "      <th>FCDemand</th>\n",
              "      <th>FromWH</th>\n",
              "      <th>WHName</th>\n",
              "      <th>WHSupply</th>\n",
              "      <th>WHRegion</th>\n",
              "    </tr>\n",
              "  </thead>\n",
              "  <tbody>\n",
              "    <tr>\n",
              "      <th>0</th>\n",
              "      <td>2019-01-01 02:11:10</td>\n",
              "      <td>33</td>\n",
              "      <td>1.1</td>\n",
              "      <td>FC00004</td>\n",
              "      <td>대전공장</td>\n",
              "      <td>25</td>\n",
              "      <td>WH00003</td>\n",
              "      <td>수원창고</td>\n",
              "      <td>42</td>\n",
              "      <td>북부</td>\n",
              "    </tr>\n",
              "    <tr>\n",
              "      <th>1</th>\n",
              "      <td>2019-01-01 06:12:42</td>\n",
              "      <td>19</td>\n",
              "      <td>1.3</td>\n",
              "      <td>FC00007</td>\n",
              "      <td>부산공장</td>\n",
              "      <td>25</td>\n",
              "      <td>WH00006</td>\n",
              "      <td>광주창고</td>\n",
              "      <td>65</td>\n",
              "      <td>남부</td>\n",
              "    </tr>\n",
              "    <tr>\n",
              "      <th>2</th>\n",
              "      <td>2019-01-01 06:32:32</td>\n",
              "      <td>31</td>\n",
              "      <td>0.9</td>\n",
              "      <td>FC00006</td>\n",
              "      <td>광주공장</td>\n",
              "      <td>30</td>\n",
              "      <td>WH00004</td>\n",
              "      <td>대전창고</td>\n",
              "      <td>60</td>\n",
              "      <td>남부</td>\n",
              "    </tr>\n",
              "    <tr>\n",
              "      <th>3</th>\n",
              "      <td>2019-01-01 07:17:06</td>\n",
              "      <td>18</td>\n",
              "      <td>1.6</td>\n",
              "      <td>FC00002</td>\n",
              "      <td>수원공장</td>\n",
              "      <td>29</td>\n",
              "      <td>WH00003</td>\n",
              "      <td>수원창고</td>\n",
              "      <td>42</td>\n",
              "      <td>북부</td>\n",
              "    </tr>\n",
              "    <tr>\n",
              "      <th>4</th>\n",
              "      <td>2019-01-01 07:52:18</td>\n",
              "      <td>30</td>\n",
              "      <td>0.8</td>\n",
              "      <td>FC00001</td>\n",
              "      <td>서울공장</td>\n",
              "      <td>28</td>\n",
              "      <td>WH00002</td>\n",
              "      <td>용인창고</td>\n",
              "      <td>41</td>\n",
              "      <td>북부</td>\n",
              "    </tr>\n",
              "  </tbody>\n",
              "</table>\n",
              "</div>"
            ],
            "text/plain": [
              "       TransactionDate  Quantity  Cost     ToFC FCName  FCDemand   FromWH  \\\n",
              "0  2019-01-01 02:11:10        33   1.1  FC00004   대전공장        25  WH00003   \n",
              "1  2019-01-01 06:12:42        19   1.3  FC00007   부산공장        25  WH00006   \n",
              "2  2019-01-01 06:32:32        31   0.9  FC00006   광주공장        30  WH00004   \n",
              "3  2019-01-01 07:17:06        18   1.6  FC00002   수원공장        29  WH00003   \n",
              "4  2019-01-01 07:52:18        30   0.8  FC00001   서울공장        28  WH00002   \n",
              "\n",
              "  WHName  WHSupply WHRegion  \n",
              "0   수원창고        42       북부  \n",
              "1   광주창고        65       남부  \n",
              "2   대전창고        60       남부  \n",
              "3   수원창고        42       북부  \n",
              "4   용인창고        41       북부  "
            ]
          },
          "metadata": {},
          "execution_count": 7
        }
      ],
      "metadata": {
        "colab": {
          "base_uri": "https://localhost:8080/",
          "height": 203
        },
        "id": "rPr3wzl4roHz",
        "outputId": "3014d111-59f4-4900-874f-1288629aa4b3"
      }
    },
    {
      "cell_type": "code",
      "execution_count": 8,
      "source": [
        "north = join_data.loc[join_data[\"WHRegion\"]==\"북부\"]\r\n",
        "north.head()"
      ],
      "outputs": [
        {
          "output_type": "execute_result",
          "data": {
            "text/html": [
              "<div>\n",
              "<style scoped>\n",
              "    .dataframe tbody tr th:only-of-type {\n",
              "        vertical-align: middle;\n",
              "    }\n",
              "\n",
              "    .dataframe tbody tr th {\n",
              "        vertical-align: top;\n",
              "    }\n",
              "\n",
              "    .dataframe thead th {\n",
              "        text-align: right;\n",
              "    }\n",
              "</style>\n",
              "<table border=\"1\" class=\"dataframe\">\n",
              "  <thead>\n",
              "    <tr style=\"text-align: right;\">\n",
              "      <th></th>\n",
              "      <th>TransactionDate</th>\n",
              "      <th>Quantity</th>\n",
              "      <th>Cost</th>\n",
              "      <th>ToFC</th>\n",
              "      <th>FCName</th>\n",
              "      <th>FCDemand</th>\n",
              "      <th>FromWH</th>\n",
              "      <th>WHName</th>\n",
              "      <th>WHSupply</th>\n",
              "      <th>WHRegion</th>\n",
              "    </tr>\n",
              "  </thead>\n",
              "  <tbody>\n",
              "    <tr>\n",
              "      <th>0</th>\n",
              "      <td>2019-01-01 02:11:10</td>\n",
              "      <td>33</td>\n",
              "      <td>1.1</td>\n",
              "      <td>FC00004</td>\n",
              "      <td>대전공장</td>\n",
              "      <td>25</td>\n",
              "      <td>WH00003</td>\n",
              "      <td>수원창고</td>\n",
              "      <td>42</td>\n",
              "      <td>북부</td>\n",
              "    </tr>\n",
              "    <tr>\n",
              "      <th>3</th>\n",
              "      <td>2019-01-01 07:17:06</td>\n",
              "      <td>18</td>\n",
              "      <td>1.6</td>\n",
              "      <td>FC00002</td>\n",
              "      <td>수원공장</td>\n",
              "      <td>29</td>\n",
              "      <td>WH00003</td>\n",
              "      <td>수원창고</td>\n",
              "      <td>42</td>\n",
              "      <td>북부</td>\n",
              "    </tr>\n",
              "    <tr>\n",
              "      <th>4</th>\n",
              "      <td>2019-01-01 07:52:18</td>\n",
              "      <td>30</td>\n",
              "      <td>0.8</td>\n",
              "      <td>FC00001</td>\n",
              "      <td>서울공장</td>\n",
              "      <td>28</td>\n",
              "      <td>WH00002</td>\n",
              "      <td>용인창고</td>\n",
              "      <td>41</td>\n",
              "      <td>북부</td>\n",
              "    </tr>\n",
              "    <tr>\n",
              "      <th>7</th>\n",
              "      <td>2019-01-01 09:09:30</td>\n",
              "      <td>12</td>\n",
              "      <td>1.5</td>\n",
              "      <td>FC00001</td>\n",
              "      <td>서울공장</td>\n",
              "      <td>28</td>\n",
              "      <td>WH00003</td>\n",
              "      <td>수원창고</td>\n",
              "      <td>42</td>\n",
              "      <td>북부</td>\n",
              "    </tr>\n",
              "    <tr>\n",
              "      <th>8</th>\n",
              "      <td>2019-01-01 10:52:55</td>\n",
              "      <td>27</td>\n",
              "      <td>1.5</td>\n",
              "      <td>FC00003</td>\n",
              "      <td>인천공장</td>\n",
              "      <td>31</td>\n",
              "      <td>WH00003</td>\n",
              "      <td>수원창고</td>\n",
              "      <td>42</td>\n",
              "      <td>북부</td>\n",
              "    </tr>\n",
              "  </tbody>\n",
              "</table>\n",
              "</div>"
            ],
            "text/plain": [
              "       TransactionDate  Quantity  Cost     ToFC FCName  FCDemand   FromWH  \\\n",
              "0  2019-01-01 02:11:10        33   1.1  FC00004   대전공장        25  WH00003   \n",
              "3  2019-01-01 07:17:06        18   1.6  FC00002   수원공장        29  WH00003   \n",
              "4  2019-01-01 07:52:18        30   0.8  FC00001   서울공장        28  WH00002   \n",
              "7  2019-01-01 09:09:30        12   1.5  FC00001   서울공장        28  WH00003   \n",
              "8  2019-01-01 10:52:55        27   1.5  FC00003   인천공장        31  WH00003   \n",
              "\n",
              "  WHName  WHSupply WHRegion  \n",
              "0   수원창고        42       북부  \n",
              "3   수원창고        42       북부  \n",
              "4   용인창고        41       북부  \n",
              "7   수원창고        42       북부  \n",
              "8   수원창고        42       북부  "
            ]
          },
          "metadata": {},
          "execution_count": 8
        }
      ],
      "metadata": {
        "colab": {
          "base_uri": "https://localhost:8080/",
          "height": 203
        },
        "id": "DSjGY4eQscT7",
        "outputId": "04872751-5543-4e54-9ad6-e60a65a1e5f2"
      }
    },
    {
      "cell_type": "code",
      "execution_count": 9,
      "source": [
        "sorth = join_data.loc[join_data[\"WHRegion\"]==\"남부\"]\r\n",
        "sorth.head()"
      ],
      "outputs": [
        {
          "output_type": "execute_result",
          "data": {
            "text/html": [
              "<div>\n",
              "<style scoped>\n",
              "    .dataframe tbody tr th:only-of-type {\n",
              "        vertical-align: middle;\n",
              "    }\n",
              "\n",
              "    .dataframe tbody tr th {\n",
              "        vertical-align: top;\n",
              "    }\n",
              "\n",
              "    .dataframe thead th {\n",
              "        text-align: right;\n",
              "    }\n",
              "</style>\n",
              "<table border=\"1\" class=\"dataframe\">\n",
              "  <thead>\n",
              "    <tr style=\"text-align: right;\">\n",
              "      <th></th>\n",
              "      <th>TransactionDate</th>\n",
              "      <th>Quantity</th>\n",
              "      <th>Cost</th>\n",
              "      <th>ToFC</th>\n",
              "      <th>FCName</th>\n",
              "      <th>FCDemand</th>\n",
              "      <th>FromWH</th>\n",
              "      <th>WHName</th>\n",
              "      <th>WHSupply</th>\n",
              "      <th>WHRegion</th>\n",
              "    </tr>\n",
              "  </thead>\n",
              "  <tbody>\n",
              "    <tr>\n",
              "      <th>1</th>\n",
              "      <td>2019-01-01 06:12:42</td>\n",
              "      <td>19</td>\n",
              "      <td>1.3</td>\n",
              "      <td>FC00007</td>\n",
              "      <td>부산공장</td>\n",
              "      <td>25</td>\n",
              "      <td>WH00006</td>\n",
              "      <td>광주창고</td>\n",
              "      <td>65</td>\n",
              "      <td>남부</td>\n",
              "    </tr>\n",
              "    <tr>\n",
              "      <th>2</th>\n",
              "      <td>2019-01-01 06:32:32</td>\n",
              "      <td>31</td>\n",
              "      <td>0.9</td>\n",
              "      <td>FC00006</td>\n",
              "      <td>광주공장</td>\n",
              "      <td>30</td>\n",
              "      <td>WH00004</td>\n",
              "      <td>대전창고</td>\n",
              "      <td>60</td>\n",
              "      <td>남부</td>\n",
              "    </tr>\n",
              "    <tr>\n",
              "      <th>5</th>\n",
              "      <td>2019-01-01 08:56:09</td>\n",
              "      <td>31</td>\n",
              "      <td>0.3</td>\n",
              "      <td>FC00005</td>\n",
              "      <td>대구공장</td>\n",
              "      <td>21</td>\n",
              "      <td>WH00005</td>\n",
              "      <td>대구창고</td>\n",
              "      <td>72</td>\n",
              "      <td>남부</td>\n",
              "    </tr>\n",
              "    <tr>\n",
              "      <th>6</th>\n",
              "      <td>2019-01-01 09:00:15</td>\n",
              "      <td>33</td>\n",
              "      <td>0.7</td>\n",
              "      <td>FC00006</td>\n",
              "      <td>광주공장</td>\n",
              "      <td>30</td>\n",
              "      <td>WH00006</td>\n",
              "      <td>광주창고</td>\n",
              "      <td>65</td>\n",
              "      <td>남부</td>\n",
              "    </tr>\n",
              "    <tr>\n",
              "      <th>9</th>\n",
              "      <td>2019-01-01 14:12:51</td>\n",
              "      <td>21</td>\n",
              "      <td>0.7</td>\n",
              "      <td>FC00006</td>\n",
              "      <td>광주공장</td>\n",
              "      <td>30</td>\n",
              "      <td>WH00006</td>\n",
              "      <td>광주창고</td>\n",
              "      <td>65</td>\n",
              "      <td>남부</td>\n",
              "    </tr>\n",
              "  </tbody>\n",
              "</table>\n",
              "</div>"
            ],
            "text/plain": [
              "       TransactionDate  Quantity  Cost     ToFC FCName  FCDemand   FromWH  \\\n",
              "1  2019-01-01 06:12:42        19   1.3  FC00007   부산공장        25  WH00006   \n",
              "2  2019-01-01 06:32:32        31   0.9  FC00006   광주공장        30  WH00004   \n",
              "5  2019-01-01 08:56:09        31   0.3  FC00005   대구공장        21  WH00005   \n",
              "6  2019-01-01 09:00:15        33   0.7  FC00006   광주공장        30  WH00006   \n",
              "9  2019-01-01 14:12:51        21   0.7  FC00006   광주공장        30  WH00006   \n",
              "\n",
              "  WHName  WHSupply WHRegion  \n",
              "1   광주창고        65       남부  \n",
              "2   대전창고        60       남부  \n",
              "5   대구창고        72       남부  \n",
              "6   광주창고        65       남부  \n",
              "9   광주창고        65       남부  "
            ]
          },
          "metadata": {},
          "execution_count": 9
        }
      ],
      "metadata": {
        "colab": {
          "base_uri": "https://localhost:8080/",
          "height": 203
        },
        "id": "-v5inWgRskSf",
        "outputId": "9e1fb2f3-87ad-4e1d-c984-59154b779bdb"
      }
    },
    {
      "cell_type": "code",
      "execution_count": 10,
      "source": [
        "print(\"북부지사 총비용:\" + str(north['Cost'].sum()) + \"만원\")\r\n",
        "print(\"남부지사 총비용:\" + str(sorth['Cost'].sum()) + \"만원\")"
      ],
      "outputs": [
        {
          "output_type": "stream",
          "name": "stdout",
          "text": [
            "북부지사 총비용:2189.3만원\n",
            "남부지사 총비용:2062.0만원\n"
          ]
        }
      ],
      "metadata": {
        "colab": {
          "base_uri": "https://localhost:8080/"
        },
        "id": "al8SMtvgsvEW",
        "outputId": "beaff087-3501-4a18-eec0-952d6296165b"
      }
    },
    {
      "cell_type": "code",
      "execution_count": 11,
      "source": [
        "print(\"북부지사 총부품 운송개수:\" + str(north['Quantity'].sum()) + \"개\")\r\n",
        "print(\"남부지사 총부품 운송개수:\" + str(sorth['Quantity'].sum()) + \"개\")"
      ],
      "outputs": [
        {
          "output_type": "stream",
          "name": "stdout",
          "text": [
            "북부지사 총부품 운송개수:49146개\n",
            "남부지사 총부품 운송개수:50214개\n"
          ]
        }
      ],
      "metadata": {
        "colab": {
          "base_uri": "https://localhost:8080/"
        },
        "id": "QQ0ZnJL7s-7-",
        "outputId": "57bc7d6b-d9c7-4dff-b817-1426b86e0cde"
      }
    },
    {
      "cell_type": "code",
      "execution_count": 12,
      "source": [
        "tmp = (north[\"Cost\"].sum()/ north[\"Quantity\"].sum()) * 10000\r\n",
        "print(\"북부지사의 부품 1개당 운송 비용 : \" +str(int(tmp)) + \"원\")\r\n",
        "tmp = (sorth[\"Cost\"].sum()/ sorth[\"Quantity\"].sum()) * 10000\r\n",
        "print(\"남부지사의 부품 1개당 운송 비용 : \" +str(int(tmp)) + \"원\")"
      ],
      "outputs": [
        {
          "output_type": "stream",
          "name": "stdout",
          "text": [
            "북부지사의 부품 1개당 운송 비용 : 445원\n",
            "남부지사의 부품 1개당 운송 비용 : 410원\n"
          ]
        }
      ],
      "metadata": {
        "colab": {
          "base_uri": "https://localhost:8080/"
        },
        "id": "kMwaaZsRtTxW",
        "outputId": "74d22ed9-05dd-4be7-89df-67b5e461e931"
      }
    },
    {
      "cell_type": "code",
      "execution_count": 13,
      "source": [
        "# 비용을 지사별로 집계\r\n",
        "cost_chk = pd.merge(cost, factories, on=\"FCID\", how=\"left\")\r\n",
        "# 평균\r\n",
        "print(\"북부지사의 평균 운송 비용：\" + str(cost_chk[\"Cost\"].loc[cost_chk[\"FCRegion\"]==\"북부\"].mean()) + \"원\")\r\n",
        "print(\"남부지사의 평균 운송 비용：\" + str(cost_chk[\"Cost\"].loc[cost_chk[\"FCRegion\"]==\"남부\"].mean()) + \"원\")"
      ],
      "outputs": [
        {
          "output_type": "stream",
          "name": "stdout",
          "text": [
            "북부지사의 평균 운송 비용：1.075원\n",
            "남부지사의 평균 운송 비용：1.05원\n"
          ]
        }
      ],
      "metadata": {
        "colab": {
          "base_uri": "https://localhost:8080/"
        },
        "id": "CZcKHxVIt5je",
        "outputId": "316d3a24-ae20-4406-a46c-fd3f0916246a"
      }
    },
    {
      "cell_type": "code",
      "execution_count": 14,
      "source": [
        "import networkx as nx\r\n",
        "import matplotlib.pyplot as plt\r\n",
        "\r\n",
        "#그래프 객체 생성\r\n",
        "G= nx.Graph()\r\n",
        "\r\n",
        "#노드 설정\r\n",
        "G.add_node(\"nodeA\")\r\n",
        "G.add_node(\"nodeB\")\r\n",
        "G.add_node(\"nodeC\")\r\n",
        "G.add_node(\"nodeD\")\r\n",
        "\r\n",
        "#엣지 설정\r\n",
        "G.add_edge(\"nodeA\",\"nodeB\")\r\n",
        "G.add_edge(\"nodeA\",\"nodeC\")\r\n",
        "G.add_edge(\"nodeA\",\"nodeD\")\r\n",
        "G.add_edge(\"nodeB\",\"nodeC\")\r\n",
        "\r\n",
        "\r\n",
        "#좌표 설정\r\n",
        "pos = {}\r\n",
        "pos[\"nodeA\"] = (0,0)\r\n",
        "pos[\"nodeB\"] = (1,1)\r\n",
        "pos[\"nodeC\"] = (0,1)\r\n",
        "pos[\"nodeD\"] = (1,0)\r\n",
        "\r\n",
        "#그리기\r\n",
        "nx.draw(G,pos, with_labels=True)\r\n",
        "\r\n",
        "#표시\r\n",
        "plt.show()"
      ],
      "outputs": [
        {
          "output_type": "error",
          "ename": "ModuleNotFoundError",
          "evalue": "No module named 'networkx'",
          "traceback": [
            "\u001b[1;31m---------------------------------------------------------------------------\u001b[0m",
            "\u001b[1;31mModuleNotFoundError\u001b[0m                       Traceback (most recent call last)",
            "\u001b[1;32m~\\AppData\\Local\\Temp/ipykernel_8228/3506176370.py\u001b[0m in \u001b[0;36m<module>\u001b[1;34m\u001b[0m\n\u001b[1;32m----> 1\u001b[1;33m \u001b[1;32mimport\u001b[0m \u001b[0mnetworkx\u001b[0m \u001b[1;32mas\u001b[0m \u001b[0mnx\u001b[0m\u001b[1;33m\u001b[0m\u001b[1;33m\u001b[0m\u001b[0m\n\u001b[0m\u001b[0;32m      2\u001b[0m \u001b[1;32mimport\u001b[0m \u001b[0mmatplotlib\u001b[0m\u001b[1;33m.\u001b[0m\u001b[0mpyplot\u001b[0m \u001b[1;32mas\u001b[0m \u001b[0mplt\u001b[0m\u001b[1;33m\u001b[0m\u001b[1;33m\u001b[0m\u001b[0m\n\u001b[0;32m      3\u001b[0m \u001b[1;33m\u001b[0m\u001b[0m\n\u001b[0;32m      4\u001b[0m \u001b[1;31m#그래프 객체 생성\u001b[0m\u001b[1;33m\u001b[0m\u001b[1;33m\u001b[0m\u001b[1;33m\u001b[0m\u001b[0m\n\u001b[0;32m      5\u001b[0m \u001b[0mG\u001b[0m\u001b[1;33m=\u001b[0m \u001b[0mnx\u001b[0m\u001b[1;33m.\u001b[0m\u001b[0mGraph\u001b[0m\u001b[1;33m(\u001b[0m\u001b[1;33m)\u001b[0m\u001b[1;33m\u001b[0m\u001b[1;33m\u001b[0m\u001b[0m\n",
            "\u001b[1;31mModuleNotFoundError\u001b[0m: No module named 'networkx'"
          ]
        }
      ],
      "metadata": {
        "colab": {
          "base_uri": "https://localhost:8080/",
          "height": 319
        },
        "id": "4YsUX0YGu4c1",
        "outputId": "7835c87d-b888-417a-e0bd-91d4a67c0d0a"
      }
    },
    {
      "cell_type": "code",
      "execution_count": null,
      "source": [
        "import pandas as pd\r\n",
        "import numpy as np\r\n",
        "import matplotlib.pyplot as plt\r\n",
        "import networkx as nx\r\n",
        "\r\n",
        "# 데이터 불러오기\r\n",
        "df_w = pd.read_csv('network_weight.csv')\r\n",
        "df_p = pd.read_csv('network_pos.csv')\r\n",
        "\r\n",
        "# 엣지 가중치 리스트화\r\n",
        "size = 10\r\n",
        "edge_weights = []\r\n",
        "for i in range(len(df_w)):\r\n",
        "    for j in range(len(df_w.columns)):\r\n",
        "        edge_weights.append(df_w.iloc[i][j]*size)\r\n",
        "\r\n",
        "# 그래프 객체 생성\r\n",
        "G = nx.Graph()\r\n",
        "\r\n",
        "# 노드 설정\r\n",
        "for i in range(len(df_w.columns)):\r\n",
        "    G.add_node(df_w.columns[i])\r\n",
        "\r\n",
        "# 엣지 설정\r\n",
        "for i in range(len(df_w.columns)):\r\n",
        "    for j in range(len(df_w.columns)):\r\n",
        "        G.add_edge(df_w.columns[i],df_w.columns[j])\r\n",
        "\r\n",
        "# 좌표 설정\r\n",
        "pos = {}\r\n",
        "for i in range(len(df_w.columns)):\r\n",
        "    node = df_w.columns[i]\r\n",
        "    pos[node] = (df_p[node][0],df_p[node][1])\r\n",
        "\r\n",
        "# 그리기\r\n",
        "nx.draw(G, pos, with_labels=True,font_size=16, node_size = 1000, node_color='k', font_color='w', width=edge_weights)\r\n",
        "\r\n",
        "# 표시\r\n",
        "plt.show()\r\n",
        "  "
      ],
      "outputs": [
        {
          "output_type": "display_data",
          "data": {
            "image/png": "[encoded data removed]",
            "text/plain": [
              "<Figure size 432x288 with 1 Axes>"
            ]
          },
          "metadata": {}
        }
      ],
      "metadata": {
        "colab": {
          "base_uri": "https://localhost:8080/",
          "height": 319
        },
        "id": "q1n2QK6KxjB2",
        "outputId": "087d13ee-d2a5-4842-a443-1ec5aac0520e"
      }
    },
    {
      "cell_type": "code",
      "execution_count": null,
      "source": [
        "import pandas as pd\r\n",
        "df_tr = pd.read_csv('trans_route.csv',index_col='공장')\r\n",
        "df_tr.head()"
      ],
      "outputs": [
        {
          "output_type": "execute_result",
          "data": {
            "text/html": [
              "<div>\n",
              "<style scoped>\n",
              "    .dataframe tbody tr th:only-of-type {\n",
              "        vertical-align: middle;\n",
              "    }\n",
              "\n",
              "    .dataframe tbody tr th {\n",
              "        vertical-align: top;\n",
              "    }\n",
              "\n",
              "    .dataframe thead th {\n",
              "        text-align: right;\n",
              "    }\n",
              "</style>\n",
              "<table border=\"1\" class=\"dataframe\">\n",
              "  <thead>\n",
              "    <tr style=\"text-align: right;\">\n",
              "      <th></th>\n",
              "      <th>F1</th>\n",
              "      <th>F2</th>\n",
              "      <th>F3</th>\n",
              "      <th>F4</th>\n",
              "    </tr>\n",
              "    <tr>\n",
              "      <th>공장</th>\n",
              "      <th></th>\n",
              "      <th></th>\n",
              "      <th></th>\n",
              "      <th></th>\n",
              "    </tr>\n",
              "  </thead>\n",
              "  <tbody>\n",
              "    <tr>\n",
              "      <th>W1</th>\n",
              "      <td>15</td>\n",
              "      <td>15</td>\n",
              "      <td>0</td>\n",
              "      <td>5</td>\n",
              "    </tr>\n",
              "    <tr>\n",
              "      <th>W2</th>\n",
              "      <td>5</td>\n",
              "      <td>0</td>\n",
              "      <td>30</td>\n",
              "      <td>5</td>\n",
              "    </tr>\n",
              "    <tr>\n",
              "      <th>W3</th>\n",
              "      <td>10</td>\n",
              "      <td>15</td>\n",
              "      <td>2</td>\n",
              "      <td>15</td>\n",
              "    </tr>\n",
              "  </tbody>\n",
              "</table>\n",
              "</div>"
            ],
            "text/plain": [
              "    F1  F2  F3  F4\n",
              "공장                \n",
              "W1  15  15   0   5\n",
              "W2   5   0  30   5\n",
              "W3  10  15   2  15"
            ]
          },
          "metadata": {},
          "execution_count": 46
        }
      ],
      "metadata": {
        "colab": {
          "base_uri": "https://localhost:8080/",
          "height": 172
        },
        "id": "nEMt-LcIzhrH",
        "outputId": "4ca992c5-85d6-453b-afeb-75901b5a49cf"
      }
    },
    {
      "cell_type": "code",
      "execution_count": null,
      "source": [
        "import pandas as pd\r\n",
        "import numpy as np\r\n",
        "import matplotlib.pyplot as plt\r\n",
        "import networkx as nx\r\n",
        "\r\n",
        "df_tr = pd.read_csv('trans_route.csv', index_col=\"공장\")\r\n",
        "df_pos = pd.read_csv('trans_route_pos.csv')\r\n",
        "\r\n",
        "# 그래프 객체 생성\r\n",
        "G = nx.Graph()\r\n",
        "\r\n",
        "# 노드 설정\r\n",
        "for i in range(len(df_pos.columns)):\r\n",
        "    G.add_node(df_pos.columns[i])\r\n",
        "\r\n",
        "# 엣지 설정 및 가중치 리스트화\r\n",
        "num_pre = 0\r\n",
        "edge_weights = []\r\n",
        "size = 0.1\r\n",
        "for i in range(len(df_pos.columns)):\r\n",
        "    for j in range(len(df_pos.columns)):\r\n",
        "        if not (i==j):\r\n",
        "            # 엣지 추가\r\n",
        "            G.add_edge(df_pos.columns[i],df_pos.columns[j])\r\n",
        "            # 엣지 가중치 추가\r\n",
        "            if num_pre<len(G.edges):\r\n",
        "                num_pre = len(G.edges)\r\n",
        "                weight = 0\r\n",
        "                if (df_pos.columns[i] in df_tr.columns)and(df_pos.columns[j] in df_tr.index):\r\n",
        "                    if df_tr[df_pos.columns[i]][df_pos.columns[j]]:\r\n",
        "                        weight = df_tr[df_pos.columns[i]][df_pos.columns[j]]*size\r\n",
        "                elif(df_pos.columns[j] in df_tr.columns)and(df_pos.columns[i] in df_tr.index):\r\n",
        "                    if df_tr[df_pos.columns[j]][df_pos.columns[i]]:\r\n",
        "                        weight = df_tr[df_pos.columns[j]][df_pos.columns[i]]*size\r\n",
        "                edge_weights.append(weight)\r\n",
        "                \r\n",
        "\r\n",
        "# 좌표 설정\r\n",
        "pos = {}\r\n",
        "for i in range(len(df_pos.columns)):\r\n",
        "    node = df_pos.columns[i]\r\n",
        "    pos[node] = (df_pos[node][0],df_pos[node][1])\r\n",
        "    \r\n",
        "# 그리기\r\n",
        "nx.draw(G, pos, with_labels=True,font_size=16, node_size = 1000, node_color='k', font_color='w', width=edge_weights)\r\n",
        "\r\n",
        "# 표시\r\n",
        "plt.show()"
      ],
      "outputs": [
        {
          "output_type": "display_data",
          "data": {
            "image/png": "[encoded data removed]",
            "text/plain": [
              "<Figure size 432x288 with 1 Axes>"
            ]
          },
          "metadata": {}
        }
      ],
      "metadata": {
        "colab": {
          "base_uri": "https://localhost:8080/",
          "height": 319
        },
        "id": "FAXOTdF40Dh0",
        "outputId": "6cd9c74d-4cdb-48e3-a2a4-642b6163dd9a"
      }
    },
    {
      "cell_type": "code",
      "execution_count": null,
      "source": [
        "import pandas as pd\r\n",
        "\r\n",
        "# 데이터 불러오기\r\n",
        "df_tr = pd.read_csv('trans_route.csv', index_col=\"공장\")\r\n",
        "df_tc = pd.read_csv('trans_cost.csv', index_col=\"공장\")\r\n",
        "\r\n",
        "# 운송 비용 함수\r\n",
        "def trans_cost(df_tr,df_tc):\r\n",
        "    cost = 0\r\n",
        "    for i in range(len(df_tc.index)):\r\n",
        "        for j in range(len(df_tr.columns)):\r\n",
        "            cost += df_tr.iloc[i][j]*df_tc.iloc[i][j]\r\n",
        "    return cost\r\n",
        "\r\n",
        "print(\"총 운송 비용:\"+str(trans_cost(df_tr,df_tc)))"
      ],
      "outputs": [
        {
          "output_type": "stream",
          "name": "stdout",
          "text": [
            "총 운송 비용:1493\n"
          ]
        }
      ],
      "metadata": {
        "colab": {
          "base_uri": "https://localhost:8080/"
        },
        "id": "okQ3FqQg4OHm",
        "outputId": "0d1d9483-d8a0-49f2-e949-35471e034a74"
      }
    },
    {
      "cell_type": "code",
      "execution_count": null,
      "source": [
        "import pandas as pd\r\n",
        "\r\n",
        "# 데이터 불러오기\r\n",
        "df_tr = pd.read_csv('trans_route.csv', index_col=\"공장\")\r\n",
        "df_demand = pd.read_csv('demand.csv')\r\n",
        "df_supply = pd.read_csv('supply.csv')\r\n",
        "\r\n",
        "# 수요측 제약조건\r\n",
        "for i in range(len(df_demand.columns)):\r\n",
        "    temp_sum = sum(df_tr[df_demand.columns[i]])\r\n",
        "    print(str(df_demand.columns[i])+\"으로 운송량:\"+str(temp_sum)+\" (수요량:\"+str(df_demand.iloc[0][i])+\")\")\r\n",
        "    if temp_sum>=df_demand.iloc[0][i]:\r\n",
        "        print(\"수요량을 만족시키고있음\")\r\n",
        "    else:\r\n",
        "        print(\"수요량을 만족시키지 못하고 있음. 운송경로 재계산 필요\")\r\n",
        "\r\n",
        "# 공급측 제약조건\r\n",
        "for i in range(len(df_supply.columns)):\r\n",
        "    temp_sum = sum(df_tr.loc[df_supply.columns[i]])\r\n",
        "    print(str(df_supply.columns[i])+\"부터의 운송량:\"+str(temp_sum)+\" (공급한계:\"+str(df_supply.iloc[0][i])+\")\")\r\n",
        "    if temp_sum<=df_supply.iloc[0][i]:\r\n",
        "        print(\"공급한계 범위내\")\r\n",
        "    else:\r\n",
        "        print(\"공급한계 초과. 운송경로 재계산 필요\")"
      ],
      "outputs": [
        {
          "output_type": "stream",
          "name": "stdout",
          "text": [
            "F1으로 운송량:30 (수요량:28)\n",
            "수요량을 만족시키고있음\n",
            "F2으로 운송량:30 (수요량:29)\n",
            "수요량을 만족시키고있음\n",
            "F3으로 운송량:32 (수요량:31)\n",
            "수요량을 만족시키고있음\n",
            "F4으로 운송량:25 (수요량:25)\n",
            "수요량을 만족시키고있음\n",
            "W1부터의 운송량:35 (공급한계:35)\n",
            "공급한계 범위내\n",
            "W2부터의 운송량:40 (공급한계:41)\n",
            "공급한계 범위내\n",
            "W3부터의 운송량:42 (공급한계:42)\n",
            "공급한계 범위내\n"
          ]
        }
      ],
      "metadata": {
        "colab": {
          "base_uri": "https://localhost:8080/"
        },
        "id": "gJ_V0TX77MxA",
        "outputId": "7bc07290-5d8c-4fa8-8084-33b72397da01"
      }
    },
    {
      "cell_type": "code",
      "execution_count": null,
      "source": [
        "import pandas as pd\r\n",
        "import numpy as np\r\n",
        "\r\n",
        "# 데이터 불러오기\r\n",
        "df_tr_new = pd.read_csv('trans_route_new.csv', index_col=\"공장\")\r\n",
        "print(df_tr_new)\r\n",
        "\r\n",
        "# 총 운송비용 재계산 \r\n",
        "print(\"총 운송 비용(변경 후):\"+str(trans_cost(df_tr_new,df_tc)))\r\n",
        "\r\n",
        "# 제약조건 계산함수\r\n",
        "# 수요측 - 소비자 구매 총량\r\n",
        "def condition_demand(df_tr,df_demand):\r\n",
        "    flag = np.zeros(len(df_demand.columns))\r\n",
        "    for i in range(len(df_demand.columns)):\r\n",
        "        temp_sum = sum(df_tr[df_demand.columns[i]])\r\n",
        "        if (temp_sum>=df_demand.iloc[0][i]):\r\n",
        "            flag[i] = 1\r\n",
        "    return flag\r\n",
        "            \r\n",
        "# 공급측 - 판매자 상품 총량\r\n",
        "def condition_supply(df_tr,df_supply):\r\n",
        "    flag = np.zeros(len(df_supply.columns))\r\n",
        "    for i in range(len(df_supply.columns)):\r\n",
        "        temp_sum = sum(df_tr.loc[df_supply.columns[i]])\r\n",
        "        if temp_sum<=df_supply.iloc[0][i]:\r\n",
        "            flag[i] = 1\r\n",
        "    return flag\r\n",
        "\r\n",
        "print(\"수요조건 계산결과:\"+str(condition_demand(df_tr_new,df_demand)))\r\n",
        "print(\"공급조건 계산결과:\"+str(condition_supply(df_tr_new,df_supply)))"
      ],
      "outputs": [
        {
          "output_type": "stream",
          "name": "stdout",
          "text": [
            "    F1  F2  F3  F4\n",
            "공장                \n",
            "W1  15  15   0   0\n",
            "W2   5   0  30  10\n",
            "W3  10  15   2  15\n",
            "총 운송 비용(변경 후):1428\n",
            "수요조건 계산결과:[1. 1. 1. 1.]\n",
            "공급조건 계산결과:[1. 0. 1.]\n"
          ]
        }
      ],
      "metadata": {
        "colab": {
          "base_uri": "https://localhost:8080/"
        },
        "id": "D7f8d1_G7ita",
        "outputId": "91f5e1fd-dc6d-4fa0-d328-0a0ec864de94"
      }
    }
  ]
}