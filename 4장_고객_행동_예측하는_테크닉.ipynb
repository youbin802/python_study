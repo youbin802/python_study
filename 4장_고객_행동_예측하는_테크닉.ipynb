{
  "nbformat": 4,
  "nbformat_minor": 2,
  "metadata": {
    "kernelspec": {
      "name": "python3",
      "display_name": "Python 3.9.5 64-bit"
    },
    "language_info": {
      "codemirror_mode": {
        "name": "ipython",
        "version": 3
      },
      "file_extension": ".py",
      "mimetype": "text/x-python",
      "name": "python",
      "nbconvert_exporter": "python",
      "pygments_lexer": "ipython3",
      "version": "3.9.5"
    },
    "colab": {
      "name": "4장. 고객 행동 예측하는 테크닉",
      "provenance": [],
      "collapsed_sections": []
    },
    "interpreter": {
      "hash": "80c619c3c7a174d0b0332d53e058ed9c4c8a605fbe06df2713324d065db99f39"
    }
  },
  "cells": [
    {
      "cell_type": "code",
      "execution_count": 6,
      "source": [
        "# 경고(worning) 비표시\r\n",
        "import warnings\r\n",
        "warnings.filterwarnings('ignore')"
      ],
      "outputs": [],
      "metadata": {
        "id": "xC6qymZzJ_pL"
      }
    },
    {
      "cell_type": "markdown",
      "source": [
        "# 제4장 고객의 행동을 예측하는 테크닉 10"
      ],
      "metadata": {
        "id": "ws9eIJYFJ_pN"
      }
    },
    {
      "cell_type": "markdown",
      "source": [
        "### 테크닉 31 : 데이터를 읽어들이고 확인하자"
      ],
      "metadata": {
        "id": "QEN05OonJ_pT"
      }
    },
    {
      "cell_type": "code",
      "execution_count": 7,
      "source": [
        "import pandas as pd\r\n",
        "uselog = pd.read_csv('use_log.csv')\r\n",
        "uselog.isnull().sum()"
      ],
      "outputs": [
        {
          "output_type": "execute_result",
          "data": {
            "text/plain": [
              "log_id         0\n",
              "customer_id    0\n",
              "usedate        0\n",
              "dtype: int64"
            ]
          },
          "metadata": {},
          "execution_count": 7
        }
      ],
      "metadata": {
        "colab": {
          "base_uri": "https://localhost:8080/",
          "height": 439
        },
        "id": "j2n1EinfJ_pT",
        "outputId": "b93ab9a9-68b1-4ba1-83f1-b52d49e97e8b"
      }
    },
    {
      "cell_type": "code",
      "execution_count": 8,
      "source": [
        "customer = pd.read_csv('customer_join.csv')\r\n",
        "customer.isnull().sum()"
      ],
      "outputs": [
        {
          "output_type": "execute_result",
          "data": {
            "text/plain": [
              "customer_id             0\n",
              "name                    0\n",
              "class                   0\n",
              "gender                  0\n",
              "start_date              0\n",
              "end_date             2842\n",
              "campaign_id             0\n",
              "is_deleted              0\n",
              "class_name              0\n",
              "price                   0\n",
              "campaign_name           0\n",
              "mean                    0\n",
              "median                  0\n",
              "max                     0\n",
              "min                     0\n",
              "routine_flg             0\n",
              "calc_date               0\n",
              "membership_period       0\n",
              "dtype: int64"
            ]
          },
          "metadata": {},
          "execution_count": 8
        }
      ],
      "metadata": {
        "id": "-SeQjmZ_J_pU"
      }
    },
    {
      "cell_type": "markdown",
      "source": [
        "### 테크닉 32 : 클러스터링으로 회원을 그룹화하자"
      ],
      "metadata": {
        "id": "yB5OtytHJ_pV"
      }
    },
    {
      "cell_type": "code",
      "execution_count": 9,
      "source": [
        "customer_clustering = customer[[\"mean\", \"median\",\"max\", \"min\", \"membership_period\"]]\r\n",
        "customer_clustering.head()"
      ],
      "outputs": [
        {
          "output_type": "execute_result",
          "data": {
            "text/html": [
              "<div>\n",
              "<style scoped>\n",
              "    .dataframe tbody tr th:only-of-type {\n",
              "        vertical-align: middle;\n",
              "    }\n",
              "\n",
              "    .dataframe tbody tr th {\n",
              "        vertical-align: top;\n",
              "    }\n",
              "\n",
              "    .dataframe thead th {\n",
              "        text-align: right;\n",
              "    }\n",
              "</style>\n",
              "<table border=\"1\" class=\"dataframe\">\n",
              "  <thead>\n",
              "    <tr style=\"text-align: right;\">\n",
              "      <th></th>\n",
              "      <th>mean</th>\n",
              "      <th>median</th>\n",
              "      <th>max</th>\n",
              "      <th>min</th>\n",
              "      <th>membership_period</th>\n",
              "    </tr>\n",
              "  </thead>\n",
              "  <tbody>\n",
              "    <tr>\n",
              "      <th>0</th>\n",
              "      <td>4.833333</td>\n",
              "      <td>5.0</td>\n",
              "      <td>8</td>\n",
              "      <td>2</td>\n",
              "      <td>47</td>\n",
              "    </tr>\n",
              "    <tr>\n",
              "      <th>1</th>\n",
              "      <td>5.083333</td>\n",
              "      <td>5.0</td>\n",
              "      <td>7</td>\n",
              "      <td>3</td>\n",
              "      <td>47</td>\n",
              "    </tr>\n",
              "    <tr>\n",
              "      <th>2</th>\n",
              "      <td>4.583333</td>\n",
              "      <td>5.0</td>\n",
              "      <td>6</td>\n",
              "      <td>3</td>\n",
              "      <td>47</td>\n",
              "    </tr>\n",
              "    <tr>\n",
              "      <th>3</th>\n",
              "      <td>4.833333</td>\n",
              "      <td>4.5</td>\n",
              "      <td>7</td>\n",
              "      <td>2</td>\n",
              "      <td>47</td>\n",
              "    </tr>\n",
              "    <tr>\n",
              "      <th>4</th>\n",
              "      <td>3.916667</td>\n",
              "      <td>4.0</td>\n",
              "      <td>6</td>\n",
              "      <td>1</td>\n",
              "      <td>47</td>\n",
              "    </tr>\n",
              "  </tbody>\n",
              "</table>\n",
              "</div>"
            ],
            "text/plain": [
              "       mean  median  max  min  membership_period\n",
              "0  4.833333     5.0    8    2                 47\n",
              "1  5.083333     5.0    7    3                 47\n",
              "2  4.583333     5.0    6    3                 47\n",
              "3  4.833333     4.5    7    2                 47\n",
              "4  3.916667     4.0    6    1                 47"
            ]
          },
          "metadata": {},
          "execution_count": 9
        }
      ],
      "metadata": {
        "id": "16MktYYbJ_pV"
      }
    },
    {
      "cell_type": "code",
      "execution_count": 10,
      "source": [
        "from sklearn.cluster import KMeans\r\n",
        "from sklearn.preprocessing import StandardScaler\r\n",
        "sc = StandardScaler()\r\n",
        "print(customer_clustering_sc)\r\n",
        "customer_clustering_sc = sc.fit_transform(customer_clustering)\r\n",
        "print(customer_clustering_sc)\r\n",
        "\r\n",
        "kmeans = KMeans(n_clusters=4, random_state=0)\r\n",
        "clusters = kmeans.fit(customer_clustering_sc)\r\n",
        "customer_clustering[\"cluster\"] = clusters.labels_\r\n",
        "print(customer_clustering[\"cluster\"].unique())\r\n",
        "customer_clustering.head()"
      ],
      "outputs": [
        {
          "output_type": "error",
          "ename": "NameError",
          "evalue": "name 'customer_clustering_sc' is not defined",
          "traceback": [
            "\u001b[1;31m---------------------------------------------------------------------------\u001b[0m",
            "\u001b[1;31mNameError\u001b[0m                                 Traceback (most recent call last)",
            "\u001b[1;32m~\\AppData\\Local\\Temp/ipykernel_5296/243712575.py\u001b[0m in \u001b[0;36m<module>\u001b[1;34m\u001b[0m\n\u001b[0;32m      2\u001b[0m \u001b[1;32mfrom\u001b[0m \u001b[0msklearn\u001b[0m\u001b[1;33m.\u001b[0m\u001b[0mpreprocessing\u001b[0m \u001b[1;32mimport\u001b[0m \u001b[0mStandardScaler\u001b[0m\u001b[1;33m\u001b[0m\u001b[1;33m\u001b[0m\u001b[0m\n\u001b[0;32m      3\u001b[0m \u001b[0msc\u001b[0m \u001b[1;33m=\u001b[0m \u001b[0mStandardScaler\u001b[0m\u001b[1;33m(\u001b[0m\u001b[1;33m)\u001b[0m\u001b[1;33m\u001b[0m\u001b[1;33m\u001b[0m\u001b[0m\n\u001b[1;32m----> 4\u001b[1;33m \u001b[0mprint\u001b[0m\u001b[1;33m(\u001b[0m\u001b[0mcustomer_clustering_sc\u001b[0m\u001b[1;33m)\u001b[0m\u001b[1;33m\u001b[0m\u001b[1;33m\u001b[0m\u001b[0m\n\u001b[0m\u001b[0;32m      5\u001b[0m \u001b[0mcustomer_clustering_sc\u001b[0m \u001b[1;33m=\u001b[0m \u001b[0msc\u001b[0m\u001b[1;33m.\u001b[0m\u001b[0mfit_transform\u001b[0m\u001b[1;33m(\u001b[0m\u001b[0mcustomer_clustering\u001b[0m\u001b[1;33m)\u001b[0m\u001b[1;33m\u001b[0m\u001b[1;33m\u001b[0m\u001b[0m\n\u001b[0;32m      6\u001b[0m \u001b[0mprint\u001b[0m\u001b[1;33m(\u001b[0m\u001b[0mcustomer_clustering_sc\u001b[0m\u001b[1;33m)\u001b[0m\u001b[1;33m\u001b[0m\u001b[1;33m\u001b[0m\u001b[0m\n",
            "\u001b[1;31mNameError\u001b[0m: name 'customer_clustering_sc' is not defined"
          ]
        }
      ],
      "metadata": {
        "id": "jT_RlbfSJ_pW"
      }
    },
    {
      "cell_type": "markdown",
      "source": [
        "### 테크닉 33 : 클러스터링 결과를 분석하자"
      ],
      "metadata": {
        "id": "TFZq5lTwJ_pW"
      }
    },
    {
      "cell_type": "code",
      "execution_count": null,
      "source": [
        "customer_clustering.columns = [\"월평균값\",\"월중앙값\", \"월최댓값\", \"월최솟값\",\"회원기간\", \"cluster\"]\r\n",
        "customer_clustering.groupby(\"cluster\").count()"
      ],
      "outputs": [],
      "metadata": {
        "id": "0-_xCVjfJ_pW"
      }
    },
    {
      "cell_type": "code",
      "execution_count": null,
      "source": [
        "customer_clustering.groupby(\"cluster\").mean()"
      ],
      "outputs": [],
      "metadata": {
        "scrolled": true,
        "id": "AKNu2NV6J_pX"
      }
    },
    {
      "cell_type": "markdown",
      "source": [
        "### 테크닉 34 : 클러스터링 결과를 가시화하자"
      ],
      "metadata": {
        "id": "_SR5qEFyJ_pX"
      }
    },
    {
      "cell_type": "code",
      "execution_count": null,
      "source": [
        "from sklearn.decomposition import PCA\r\n",
        "X = customer_clustering_sc\r\n",
        "pca = PCA(n_components=2)\r\n",
        "pca.fit(X)\r\n",
        "x_pca = pca.transform(X)\r\n",
        "pca_df = pd.DataFrame(x_pca)\r\n",
        "pca_df[\"cluster\"] = customer_clustering[\"cluster\"]"
      ],
      "outputs": [],
      "metadata": {
        "id": "gO2bpyoXJ_pX"
      }
    },
    {
      "cell_type": "code",
      "execution_count": null,
      "source": [
        "import matplotlib.pyplot as plt\n",
        "%matplotlib inline\n",
        "for i in customer_clustering[\"cluster\"].unique():\n",
        "    tmp = pca_df.loc[pca_df[\"cluster\"]==i]\n",
        "    plt.scatter(tmp[0], tmp[1])"
      ],
      "outputs": [],
      "metadata": {
        "id": "615PZJv-J_pY"
      }
    },
    {
      "cell_type": "markdown",
      "source": [
        "### 테크닉 35 : 클러스터링 결과를 바탕으로 탈퇴회원의 경향을 파악하자"
      ],
      "metadata": {
        "id": "kLkAA10qJ_pY"
      }
    },
    {
      "cell_type": "code",
      "execution_count": null,
      "source": [
        "customer_clustering = pd.concat([customer_clustering, customer], axis=1)\n",
        "customer_clustering.groupby([\"cluster\",\"is_deleted\"],as_index=False).count()[[\"cluster\",\"is_deleted\",\"customer_id\"]]"
      ],
      "outputs": [],
      "metadata": {
        "id": "o3QCjd91J_pY"
      }
    },
    {
      "cell_type": "code",
      "execution_count": null,
      "source": [
        "customer_clustering.groupby([\"cluster\",\"routine_flg\"],as_index=False).count()[[\"cluster\",\"routine_flg\",\"customer_id\"]]"
      ],
      "outputs": [],
      "metadata": {
        "id": "QQL-nX06J_pZ"
      }
    },
    {
      "cell_type": "markdown",
      "source": [
        "### 테크닉 36 : 다음달의 이용횟수 예측을 위해 테이터를 준비하자"
      ],
      "metadata": {
        "id": "h9Ntgif1J_pZ"
      }
    },
    {
      "cell_type": "code",
      "execution_count": null,
      "source": [
        "uselog[\"usedate\"] = pd.to_datetime(uselog[\"usedate\"])\n",
        "uselog[\"연월\"] = uselog[\"usedate\"].dt.strftime(\"%Y%m\")\n",
        "uselog_months = uselog.groupby([\"연월\",\"customer_id\"],as_index=False).count()\n",
        "uselog_months.rename(columns={\"log_id\":\"count\"}, inplace=True)\n",
        "del uselog_months[\"usedate\"]\n",
        "uselog_months.head()"
      ],
      "outputs": [],
      "metadata": {
        "id": "EqGQsZJOJ_pZ"
      }
    },
    {
      "cell_type": "code",
      "execution_count": null,
      "source": [
        "year_months = list(uselog_months[\"연월\"].unique())\n",
        "predict_data = pd.DataFrame()\n",
        "for i in range(6, len(year_months)):\n",
        "    tmp = uselog_months.loc[uselog_months[\"연월\"]==year_months[i]]\n",
        "    tmp.rename(columns={\"count\":\"count_pred\"}, inplace=True)\n",
        "    for j in range(1, 7):\n",
        "        tmp_before = uselog_months.loc[uselog_months[\"연월\"]==year_months[i-j]]\n",
        "        del tmp_before[\"연월\"]\n",
        "        tmp_before.rename(columns={\"count\":\"count_{}\".format(j-1)}, inplace=True)\n",
        "        tmp = pd.merge(tmp, tmp_before, on=\"customer_id\", how=\"left\")\n",
        "    predict_data = pd.concat([predict_data, tmp], ignore_index=True)\n",
        "predict_data.head()"
      ],
      "outputs": [],
      "metadata": {
        "id": "Gt_2tT13J_pa"
      }
    },
    {
      "cell_type": "code",
      "execution_count": null,
      "source": [
        "predict_data = predict_data.dropna()\n",
        "predict_data = predict_data.reset_index(drop=True)\n",
        "predict_data.head()"
      ],
      "outputs": [],
      "metadata": {
        "id": "nXHxRQiuJ_po"
      }
    },
    {
      "cell_type": "markdown",
      "source": [
        "### 테크닉 37 : 특징이 되는 변수를 추가하자"
      ],
      "metadata": {
        "id": "LIUXcZkaJ_po"
      }
    },
    {
      "cell_type": "code",
      "execution_count": null,
      "source": [
        "predict_data = pd.merge(predict_data, customer[[\"customer_id\",\"start_date\"]], on=\"customer_id\", how=\"left\")\n",
        "predict_data.head()"
      ],
      "outputs": [],
      "metadata": {
        "id": "K7pKFOQlJ_po"
      }
    },
    {
      "cell_type": "code",
      "execution_count": null,
      "source": [
        "predict_data[\"now_date\"] = pd.to_datetime(predict_data[\"연월\"], format=\"%Y%m\")\n",
        "predict_data[\"start_date\"] = pd.to_datetime(predict_data[\"start_date\"])\n",
        "from dateutil.relativedelta import relativedelta\n",
        "predict_data[\"period\"] = None\n",
        "for i in range(len(predict_data)):\n",
        "    delta = relativedelta(predict_data[\"now_date\"][i], predict_data[\"start_date\"][i])\n",
        "    predict_data[\"period\"][i] = delta.years*12 + delta.months\n",
        "predict_data.head()"
      ],
      "outputs": [],
      "metadata": {
        "id": "O7-zigP-J_pp"
      }
    },
    {
      "cell_type": "markdown",
      "source": [
        "### 테크닉 38 : 다음달 이용횟수를 예측하는 모델을 구축하자"
      ],
      "metadata": {
        "id": "jKj_KE1iJ_pp"
      }
    },
    {
      "cell_type": "code",
      "execution_count": null,
      "source": [
        "predict_data = predict_data.loc[predict_data[\"start_date\"]>=pd.to_datetime(\"20180401\")]\n",
        "from sklearn import linear_model\n",
        "import sklearn.model_selection\n",
        "model = linear_model.LinearRegression()\n",
        "X = predict_data[[\"count_0\",\"count_1\",\"count_2\",\"count_3\",\"count_4\",\"count_5\",\"period\"]]\n",
        "y = predict_data[\"count_pred\"]\n",
        "X_train, X_test, y_train, y_test = sklearn.model_selection.train_test_split(X,y)\n",
        "model.fit(X_train, y_train)"
      ],
      "outputs": [],
      "metadata": {
        "id": "pSbFZGArJ_pp"
      }
    },
    {
      "cell_type": "code",
      "execution_count": null,
      "source": [
        "print(model.score(X_train, y_train))\n",
        "print(model.score(X_test, y_test))"
      ],
      "outputs": [],
      "metadata": {
        "id": "d2zok_46J_pq"
      }
    },
    {
      "cell_type": "markdown",
      "source": [
        "### 테크닉 39 : 모델에 기여하는 변수를 확인하자"
      ],
      "metadata": {
        "id": "aeOc7xPEJ_pq"
      }
    },
    {
      "cell_type": "code",
      "execution_count": null,
      "source": [
        "coef = pd.DataFrame({\"feature_names\":X.columns, \"coefficient\":model.coef_})\n",
        "coef"
      ],
      "outputs": [],
      "metadata": {
        "id": "FaCoko5bJ_pq"
      }
    },
    {
      "cell_type": "markdown",
      "source": [
        "### 테크닉 40 : 다음달의 이용횟수를 예측하자"
      ],
      "metadata": {
        "id": "8d16-DufJ_pr"
      }
    },
    {
      "cell_type": "code",
      "execution_count": null,
      "source": [
        "x1 = [3, 4, 4, 6, 8, 7, 8]\n",
        "x2 = [2, 2, 3, 3, 4, 6, 8]\n",
        "x_pred = [x1, x2]"
      ],
      "outputs": [],
      "metadata": {
        "id": "V5_Y7Ev5J_pr"
      }
    },
    {
      "cell_type": "code",
      "execution_count": null,
      "source": [
        "model.predict(x_pred)"
      ],
      "outputs": [],
      "metadata": {
        "id": "q5_m7Oq5J_pr"
      }
    },
    {
      "cell_type": "code",
      "execution_count": null,
      "source": [
        "uselog_months.to_csv(\"use_log_months.csv\",index=False)"
      ],
      "outputs": [],
      "metadata": {
        "id": "inf8SAPOJ_pr"
      }
    }
  ]
}