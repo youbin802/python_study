{
 "cells": [
  {
   "cell_type": "code",
   "execution_count": 12,
   "source": [
    "import numpy as np\r\n",
    "import pandas as pd\r\n",
    "from itertools import product\r\n",
    "from pulp import LpVariable, lpSum, value\r\n",
    "from ortoolpy import model_min, addvars, addvals\r\n",
    "\r\n",
    "df_tc = pd.read_csv('trans_cost.csv', index_col=\"공장\")\r\n",
    "df_demand = pd.read_csv('demand.csv')\r\n",
    "df_supply = pd.read_csv('supply.csv')\r\n",
    "\r\n",
    "np.random.seed(1)\r\n",
    "nw = len(df_tc.index)\r\n",
    "nf = len(df_tc.columns)\r\n",
    "pr = list(product(range(nw), range(nf)))\r\n",
    "\r\n",
    "m1 = model_min()\r\n",
    "v1 = {(i,j):LpVariable('v%d_%d'%(i,j), lowBound=0) for i,j in pr}\r\n",
    "#dict 형식으로 정의한다. \r\n",
    "\r\n",
    "m1 += lpSum(df_tc.iloc[i][j]*v1[i,j] for i,j in pr)\r\n",
    "\r\n",
    "\r\n",
    "for i in range(nw):\r\n",
    "    m1 += lpSum(v1[i,j] for j in range(nf)) <= df_supply.iloc[0][i]\r\n",
    "for j in range(nf):\r\n",
    "    m1 += lpSum(v1[i,j] for i in range(nw)) >= df_demand.iloc[0][j]\r\n",
    "\r\n",
    "m1.solve()\r\n",
    "\r\n",
    "#총 운송 비용 계산\r\n",
    "df_tr_sol = df_tc.copy()\r\n",
    "total_cost = 0\r\n",
    "for k,x in v1.items():\r\n",
    "    i,j = k[0], k[1]\r\n",
    "    df_tr_sol.iloc[i][j] = value(x)\r\n",
    "    total_cost +=df_tc.iloc[i][j] * value(x)\r\n",
    "print(df_tr_sol)\r\n",
    "print('총 운송 비용' , str(total_cost))\r\n",
    "\r\n",
    "\r\n"
   ],
   "outputs": [
    {
     "output_type": "stream",
     "name": "stdout",
     "text": [
      "NoName:\n",
      "MINIMIZE\n",
      "10*v0_0 + 10*v0_1 + 11*v0_2 + 27*v0_3 + 18*v1_0 + 21*v1_1 + 12*v1_2 + 14*v1_3 + 15*v2_0 + 12*v2_1 + 14*v2_2 + 12*v2_3 + 0\n",
      "VARIABLES\n",
      "v0_0 Continuous\n",
      "v0_1 Continuous\n",
      "v0_2 Continuous\n",
      "v0_3 Continuous\n",
      "v1_0 Continuous\n",
      "v1_1 Continuous\n",
      "v1_2 Continuous\n",
      "v1_3 Continuous\n",
      "v2_0 Continuous\n",
      "v2_1 Continuous\n",
      "v2_2 Continuous\n",
      "v2_3 Continuous\n",
      "\n",
      "    F1  F2  F3  F4\n",
      "공장                \n",
      "W1  28   7   0   0\n",
      "W2   0   0  31   5\n",
      "W3   0  22   0  20\n",
      "총 운송 비용 1296.0\n"
     ]
    }
   ],
   "metadata": {}
  },
  {
   "cell_type": "code",
   "execution_count": 20,
   "source": [
    "import numpy as np\r\n",
    "import pandas as pd\r\n",
    "import matplotlib.pyplot as plt\r\n",
    "import networkx as nx\r\n",
    "\r\n",
    "df_tr = pd.read_csv('trans_route.csv')\r\n",
    "df_pos = pd.read_csv('trans_route_pos.csv')\r\n",
    "\r\n",
    "G = nx.Graph()\r\n",
    "\r\n",
    "for i in range(len(df_pos.columns)):\r\n",
    "    G.add_node(df_pos.columns[i])\r\n",
    "\r\n",
    "num_pre = 0\r\n",
    "edge_weights = [] \r\n",
    "size = 0.1\r\n",
    "for i in range(len(df_pos.columns)):\r\n",
    "    for j in range(len(df_pos.columns)):\r\n",
    "        if not (i==j):\r\n",
    "            # 엣지 추가\r\n",
    "            G.add_edge(df_pos.columns[i], df_pos.columns[j])\r\n",
    "            # 엣지 가중치 추가\r\n",
    "            if num_pre < len(G.edges):\r\n",
    "                num_pre = len(G.edges)\r\n",
    "                weight = 0\r\n",
    "                if(df_pos.columns[i] in df_tr.columns)and(df_pos.columns[j] in df_tr.index):\r\n",
    "                    if df_tr[df_pos.columns[i]][df_pos.columns[j]]:\r\n",
    "                        weight = df_tr[df_pos.columns[i]][df_pos.columns[j]]*size\r\n",
    "                    elif(df_pos.columns[j] in df_tr.columns)and(df_pos.columns[i] in df_tr.index):\r\n",
    "                        weight = df_tr[df_pos.columns[j]][df_pos.columns[i]]*size\r\n",
    "                    edge_weights.append(weight)\r\n",
    "\r\n",
    "\r\n",
    "pos = {}\r\n",
    "for i in range(len(df_pos.columns)):\r\n",
    "    node = df_pos.columns[i]\r\n",
    "    pos[node] = (df_pos[node][0], df_pos[node][1])\r\n",
    "\r\n",
    "\r\n",
    "nx.draw(G, pos, with_labels=True, font_size=16, node_size = 1000, node_color = 'k',font_color='w', width=edge_weights)\r\n",
    "plt.show()\r\n",
    "\r\n",
    "\r\n",
    "\r\n",
    "\r\n"
   ],
   "outputs": [
    {
     "output_type": "display_data",
     "data": {
      "image/png": "[encoded data removed]",
      "text/plain": [
       "<Figure size 432x288 with 1 Axes>"
      ]
     },
     "metadata": {}
    }
   ],
   "metadata": {}
  },
  {
   "cell_type": "code",
   "execution_count": 21,
   "source": [
    "import numpy as np\r\n",
    "import pandas as pd\r\n",
    "\r\n",
    "df_demand = pd.read_csv('demand.csv')\r\n",
    "df_supply = pd.read_csv('supply.csv')\r\n",
    "\r\n",
    "def condition_demand(df_tr, df_demand):\r\n",
    "    flag = np.zeros(len(df_demand.columns))\r\n",
    "    for i in range(len(df_demand.columns)):\r\n",
    "        temp_sum = sum(df_tr[df_demand.columns[i]])\r\n",
    "        if (temp_sum>=df_demand.iloc[0][i]):\r\n",
    "            flag[i] = 1\r\n",
    "    return flag\r\n",
    "    \r\n",
    "def condition_supply(df_tr,df_supply):\r\n",
    "    flag = np.zeros(len(df_supply.columns))\r\n",
    "    for i in range(len(df_supply.columns)):\r\n",
    "        temp_sum = sum(df_tr.loc[df_supply.columns[i]])\r\n",
    "        if (temp_sum<=df_supply.loc[0][i]):\r\n",
    "            flag[i] = 1\r\n",
    "    return flag\r\n",
    "\r\n",
    "print('수요 조건 계산 결과', str(condition_demand(df_tr_sol, df_demand)))\r\n",
    "print('공급 조건 계산 결과', str(condition_supply(df_tr_sol, df_supply)))\r\n"
   ],
   "outputs": [
    {
     "output_type": "stream",
     "name": "stdout",
     "text": [
      "수요 조건 계산 결과 [1. 1. 1. 1.]\n",
      "공급 조건 계산 결과 [1. 1. 1.]\n"
     ]
    }
   ],
   "metadata": {}
  }
 ],
 "metadata": {
  "orig_nbformat": 4,
  "language_info": {
   "name": "python",
   "version": "3.9.5",
   "mimetype": "text/x-python",
   "codemirror_mode": {
    "name": "ipython",
    "version": 3
   },
   "pygments_lexer": "ipython3",
   "nbconvert_exporter": "python",
   "file_extension": ".py"
  },
  "kernelspec": {
   "name": "python3",
   "display_name": "Python 3.9.5 64-bit"
  },
  "interpreter": {
   "hash": "80c619c3c7a174d0b0332d53e058ed9c4c8a605fbe06df2713324d065db99f39"
  }
 },
 "nbformat": 4,
 "nbformat_minor": 2
}